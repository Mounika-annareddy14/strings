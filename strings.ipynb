{
 "cells": [
  {
   "cell_type": "markdown",
   "metadata": {},
   "source": [
    "Creating a STRING:"
   ]
  },
  {
   "cell_type": "code",
   "execution_count": 1,
   "metadata": {},
   "outputs": [
    {
     "name": "stdout",
     "output_type": "stream",
     "text": [
      "p\n",
      "1\n",
      "Hello World!\n",
      "12\n",
      "I hope you are enjoying 30days of python\n"
     ]
    }
   ],
   "source": [
    "#creating a string\n",
    "letter='p' #A string could be a single letter or bunch of texts\n",
    "print(letter)\n",
    "print(len(letter))\n",
    "greeting='Hello World!'  #string could be made using single quote ,double quote\n",
    "print(greeting)\n",
    "print(len(greeting))\n",
    "\n",
    "sentence='I hope you are enjoying 30days of python'\n",
    "print(sentence)"
   ]
  },
  {
   "cell_type": "markdown",
   "metadata": {},
   "source": [
    "Multiline string is created by using triple single (''') or triple double quotes (\"\"\"). See the example below.\n",
    "\n"
   ]
  },
  {
   "cell_type": "code",
   "execution_count": 4,
   "metadata": {},
   "outputs": [
    {
     "name": "stdout",
     "output_type": "stream",
     "text": [
      "I am Mounika Annareddy.\n",
      "I didnt find anything as rewarding as empowering people.\n",
      "That is why i created 30days of python\n",
      "I am Mounika Annareddy.\n",
      "I didnt find anything as rewarding as empowering people.\n",
      "that is why i created 30days of python.\n"
     ]
    }
   ],
   "source": [
    "multiline_string='''I am Mounika Annareddy.\n",
    "I didnt find anything as rewarding as empowering people.\n",
    "That is why i created 30days of python'''\n",
    "print(multiline_string)\n",
    "\n",
    "multiline_string=\"\"\"I am Mounika Annareddy.\n",
    "I didnt find anything as rewarding as empowering people.\n",
    "that is why i created 30days of python.\"\"\"\n",
    "print(multiline_string)"
   ]
  },
  {
   "cell_type": "markdown",
   "metadata": {},
   "source": [
    "String Concatenation\n",
    "We can connect strings together. Merging or connecting strings is called concatenation. "
   ]
  },
  {
   "cell_type": "code",
   "execution_count": 10,
   "metadata": {},
   "outputs": [
    {
     "name": "stdout",
     "output_type": "stream",
     "text": [
      "mounika Annareddy\n",
      "7\n",
      "9\n",
      "False\n",
      "17\n"
     ]
    }
   ],
   "source": [
    "first_name='mounika'\n",
    "last_name='Annareddy'\n",
    "space=' '\n",
    "full_name=first_name + space + last_name\n",
    "print(full_name)\n",
    "\n",
    "print(len(first_name))\n",
    "print(len(last_name))\n",
    "print((len(first_name)) > len(last_name))\n",
    "print(len(full_name))"
   ]
  },
  {
   "cell_type": "markdown",
   "metadata": {},
   "source": [
    "Escape Sequences in Strings\n",
    "In Python and other programming languages \\ followed by a character is an escape sequence. Let us see the most common escape characters:\n",
    "\n",
    "\\n: new line\n",
    "\\t: Tab means(8 spaces)\n",
    "\\\\: Back slash\n",
    "\\': Single quote (')\n",
    "\\\": Double quote (\")"
   ]
  },
  {
   "cell_type": "code",
   "execution_count": 13,
   "metadata": {},
   "outputs": [
    {
     "name": "stdout",
     "output_type": "stream",
     "text": [
      "i hope everyone is enjoying the python challenge.\n",
      " Are you?\n",
      "days\tTopics\tExercises\n",
      "day1\t5\t6\n",
      "day2\t6\t4\n",
      "day3\t7\t4\n",
      "day5\t7\t4\n",
      "This is blackslash symbol(\\)\n",
      "In every programming language it starts with \"hello world!\"\n"
     ]
    }
   ],
   "source": [
    "print('i hope everyone is enjoying the python challenge.\\n Are you?')\n",
    "print('days\\tTopics\\tExercises')\n",
    "print('day1\\t5\\t6')\n",
    "print('day2\\t6\\t4')\n",
    "print('day3\\t7\\t4')\n",
    "print('day5\\t7\\t4')\n",
    "print('This is blackslash symbol(\\\\)')\n",
    "print('In every programming language it starts with \\\"hello world!\\\"')\n",
    "\n",
    "\n"
   ]
  },
  {
   "cell_type": "markdown",
   "metadata": {},
   "source": [
    "String formatting\n",
    "Old Style String Formatting (% Operator)\n",
    "In Python there are many ways of formatting strings. In this section, we will cover some of them. The \"%\" operator is used to format a set of variables enclosed in a \"tuple\" (a fixed size list), together with a format string, which contains normal text together with \"argument specifiers\", special symbols like \"%s\", \"%d\", \"%f\", \"%.number of digitsf\".\n",
    "\n",
    "%s - String (or any object with a string representation, like numbers)\n",
    "%d - Integers\n",
    "%f - Floating point numbers\n",
    "\"%.number of digitsf\" - Floating point numbers with fixed precision"
   ]
  },
  {
   "cell_type": "code",
   "execution_count": 14,
   "metadata": {},
   "outputs": [
    {
     "name": "stdout",
     "output_type": "stream",
     "text": [
      "I am mounika Annareddy.I teach python\n"
     ]
    }
   ],
   "source": [
    "#strings only\n",
    "first_name='mounika'\n",
    "last_name='Annareddy'\n",
    "language='python'\n",
    "formatted_string=('I am %s %s.I teach %s' %(first_name,last_name,language))\n",
    "print(formatted_string)"
   ]
  },
  {
   "cell_type": "code",
   "execution_count": 15,
   "metadata": {},
   "outputs": [
    {
     "name": "stdout",
     "output_type": "stream",
     "text": [
      "the area of circle is 10 is 314.00\n"
     ]
    }
   ],
   "source": [
    "#strings and numbers\n",
    "radius=10\n",
    "pi=3.14\n",
    "area=pi*radius**2\n",
    "formatted_string=('the area of circle is %d is %.2f' %(radius,area))\n",
    "print(formatted_string)"
   ]
  },
  {
   "cell_type": "code",
   "execution_count": 18,
   "metadata": {},
   "outputs": [
    {
     "name": "stdout",
     "output_type": "stream",
     "text": [
      "the following are python libraries: ['numpy', 'pandas', 'matplotib', 'flask', 'Django']\n"
     ]
    }
   ],
   "source": [
    "python_libraries=['numpy','pandas','matplotib','flask','Django']\n",
    "formatted_string=('the following are python libraries: %s' %(python_libraries))\n",
    "print(formatted_string)"
   ]
  },
  {
   "cell_type": "code",
   "execution_count": 19,
   "metadata": {},
   "outputs": [
    {
     "name": "stdout",
     "output_type": "stream",
     "text": [
      "i am mounika Annareddy.I teach pythoon \n"
     ]
    }
   ],
   "source": [
    "#New Style String Formatting (str.format)\n",
    "#This formatting is introduced in Python version 3.\n",
    "first_name='mounika'\n",
    "last_name='Annareddy'\n",
    "language='pythoon'\n",
    "formatted_string=('i am {} {}.I teach {} '.format(first_name,last_name,language))\n",
    "print(formatted_string)"
   ]
  },
  {
   "cell_type": "code",
   "execution_count": 26,
   "metadata": {},
   "outputs": [
    {
     "name": "stdout",
     "output_type": "stream",
     "text": [
      "4 + 3 = 7\n",
      "4 - 3 = 1\n",
      "4 * 3 = 12\n",
      "4 % 3 = 1\n",
      "4 / 3 = 1.33\n",
      "4 // 3 = 1\n",
      "4 ** 3 = 64\n"
     ]
    }
   ],
   "source": [
    "a=4\n",
    "b=3\n",
    "print('{} + {} = {}' .format(a,b,a+b))\n",
    "print('{} - {} = {}' .format(a,b,a-b))\n",
    "print('{} * {} = {}' .format(a,b,a*b))\n",
    "print('{} % {} = {}'.format(a,b,a%b))\n",
    "print('{} / {} = {:.2f}' .format(a,b,a/b))\n",
    "print('{} // {} = {}'.format(a,b,a//b))\n",
    "print('{} ** {} = {}'.format(a,b,a**b))"
   ]
  },
  {
   "cell_type": "markdown",
   "metadata": {},
   "source": [
    "String Interpolation / f-Strings (Python 3.6+)\n",
    "Another new string formatting is string interpolation, f-strings. Strings start with f and we can inject the data in their corresponding positions.\n",
    "\n"
   ]
  },
  {
   "cell_type": "code",
   "execution_count": 28,
   "metadata": {},
   "outputs": [
    {
     "name": "stdout",
     "output_type": "stream",
     "text": [
      "4 + 3 = 7\n",
      "4 - 3 = 1\n",
      "4 * 3 = 12\n",
      "4 / 3 = 1.33\n",
      "4 // 3 = 1\n",
      "4 ** 3 = 64\n"
     ]
    }
   ],
   "source": [
    "a=4\n",
    "b=3\n",
    "print(f'{a} + {b} = {a+b}')\n",
    "print(f'{a} - {b} = {a-b}')\n",
    "print(f'{a} * {b} = {a*b}')\n",
    "print(f'{a} / {b} = {a/b:.2f}')\n",
    "print(f'{a} // {b} = {a//b}')\n",
    "print(f'{a} ** {b} = {a**b}')\n",
    "\n",
    "\n"
   ]
  },
  {
   "cell_type": "code",
   "execution_count": 31,
   "metadata": {},
   "outputs": [
    {
     "name": "stdout",
     "output_type": "stream",
     "text": [
      "p\n",
      "y\n",
      "t\n",
      "h\n",
      "o\n",
      "n\n"
     ]
    }
   ],
   "source": [
    "#unpacking characters\n",
    "language='python'\n",
    "a,b,c,d,e,f=language  # unpacking sequence characters into variables\n",
    "print(a)\n",
    "print(b)\n",
    "print(c)\n",
    "print(d)\n",
    "print(e)\n",
    "print(f)\n",
    "\n",
    "\n"
   ]
  },
  {
   "cell_type": "markdown",
   "metadata": {},
   "source": [
    "Accessing Characters in Strings by Index\n",
    "In programming counting starts from zero. Therefore the first letter of a string is at zero index and the last letter of a string is the length of a string minus one."
   ]
  },
  {
   "cell_type": "code",
   "execution_count": 32,
   "metadata": {},
   "outputs": [
    {
     "name": "stdout",
     "output_type": "stream",
     "text": [
      "p\n",
      "y\n",
      "t\n"
     ]
    }
   ],
   "source": [
    "language='python'\n",
    "first_letter=language[0]\n",
    "print(first_letter)\n",
    "second_letter=language[1]\n",
    "print(second_letter)\n",
    "third_letter=language[2]\n",
    "print(third_letter)"
   ]
  },
  {
   "cell_type": "code",
   "execution_count": 2,
   "metadata": {},
   "outputs": [
    {
     "name": "stdout",
     "output_type": "stream",
     "text": [
      "n\n"
     ]
    }
   ],
   "source": [
    "language='python'\n",
    "last_index=len(language)-1\n",
    "last_letter=language[last_index]\n",
    "print(last_letter)"
   ]
  },
  {
   "cell_type": "code",
   "execution_count": 3,
   "metadata": {},
   "outputs": [
    {
     "name": "stdout",
     "output_type": "stream",
     "text": [
      "n\n",
      "o\n"
     ]
    }
   ],
   "source": [
    "#If we want to start from right end we can use negative indexing. -1 is the last index.\n",
    "language='python'\n",
    "first_letter=language[-1]\n",
    "second_letter=language[-2]\n",
    "print(first_letter)\n",
    "print(second_letter)"
   ]
  },
  {
   "cell_type": "markdown",
   "metadata": {},
   "source": [
    "Slicing Python Strings\n",
    "In python we can slice strings into substrings."
   ]
  },
  {
   "cell_type": "code",
   "execution_count": 5,
   "metadata": {},
   "outputs": [
    {
     "name": "stdout",
     "output_type": "stream",
     "text": [
      "pyt\n",
      "hon\n",
      "pyt\n",
      "hon\n"
     ]
    }
   ],
   "source": [
    "#slicing\n",
    "language='python'\n",
    "first_three=language[0:3]  ## starts at zero index and up to 3 but not include 3\n",
    "print(first_three)\n",
    "last_three=language[3:6]\n",
    "print(last_three)\n",
    "\n",
    "#another way\n",
    "\n",
    "first_three=language[:3]\n",
    "print(first_three)\n",
    "last_three=language[3:]\n",
    "print(last_three)"
   ]
  },
  {
   "cell_type": "markdown",
   "metadata": {},
   "source": [
    "Reversing a String\n",
    "We can easily reverse strings in python."
   ]
  },
  {
   "cell_type": "code",
   "execution_count": 6,
   "metadata": {},
   "outputs": [
    {
     "name": "stdout",
     "output_type": "stream",
     "text": [
      "!dlrow olleh\n"
     ]
    }
   ],
   "source": [
    "#reversing\n",
    "greeting='hello world!'\n",
    "print(greeting[::-1])"
   ]
  },
  {
   "cell_type": "markdown",
   "metadata": {},
   "source": [
    "Skipping Characters While Slicing\n",
    "It is possible to skip characters while slicing by passing step argument to slice method."
   ]
  },
  {
   "cell_type": "code",
   "execution_count": 2,
   "metadata": {},
   "outputs": [
    {
     "name": "stdout",
     "output_type": "stream",
     "text": [
      "pto\n"
     ]
    }
   ],
   "source": [
    "#skipping\n",
    "language='python'\n",
    "c=language[0:6:2]\n",
    "print(c)"
   ]
  },
  {
   "cell_type": "markdown",
   "metadata": {},
   "source": [
    "String Methods\n",
    "There are many string methods which allow us to format strings. See some of the string methods in the following example:\n",
    "\n",
    "capitalize(): Converts the first character of the string to capital letter"
   ]
  },
  {
   "cell_type": "code",
   "execution_count": 11,
   "metadata": {},
   "outputs": [
    {
     "name": "stdout",
     "output_type": "stream",
     "text": [
      "Thirty days of python\n"
     ]
    }
   ],
   "source": [
    "challenge='thirty Days of Python'\n",
    "print(challenge.capitalize())"
   ]
  },
  {
   "cell_type": "markdown",
   "metadata": {},
   "source": [
    "count(): returns occurrences of substring in string, count(substring, start=.., end=..). The start is a starting indexing for counting and end is the last index to count."
   ]
  },
  {
   "cell_type": "code",
   "execution_count": 12,
   "metadata": {},
   "outputs": [
    {
     "name": "stdout",
     "output_type": "stream",
     "text": [
      "3\n",
      "1\n",
      "2\n"
     ]
    }
   ],
   "source": [
    "challenge='thirty Days of python'\n",
    "print(challenge.count('y'))\n",
    "print(challenge.count('y',7,14))\n",
    "print(challenge.count('th'))"
   ]
  },
  {
   "cell_type": "markdown",
   "metadata": {},
   "source": [
    "endswith(): Checks if a string ends with a specified ending"
   ]
  },
  {
   "cell_type": "code",
   "execution_count": 14,
   "metadata": {},
   "outputs": [
    {
     "name": "stdout",
     "output_type": "stream",
     "text": [
      "False\n",
      "True\n"
     ]
    }
   ],
   "source": [
    "challenge='thirty days of python'\n",
    "print(challenge.endswith('tion'))\n",
    "print(challenge.endswith('on'))"
   ]
  },
  {
   "cell_type": "markdown",
   "metadata": {},
   "source": [
    "expandtabs(): Replaces tab character with spaces, default tab size is 8. It takes tab size argument"
   ]
  },
  {
   "cell_type": "code",
   "execution_count": 5,
   "metadata": {},
   "outputs": [
    {
     "name": "stdout",
     "output_type": "stream",
     "text": [
      "thirty  days    of      python\n",
      "thirty    days      of        python\n"
     ]
    }
   ],
   "source": [
    "challenge='thirty\\tdays\\tof\\tpython'\n",
    "print(challenge.expandtabs())\n",
    "print(challenge.expandtabs(10))\n"
   ]
  },
  {
   "cell_type": "markdown",
   "metadata": {},
   "source": [
    "find(): Returns the index of the first occurrence of a substring, if not found returns -1\n"
   ]
  },
  {
   "cell_type": "code",
   "execution_count": 1,
   "metadata": {},
   "outputs": [
    {
     "name": "stdout",
     "output_type": "stream",
     "text": [
      "5\n",
      "0\n"
     ]
    }
   ],
   "source": [
    "challenge='thirty days of python'\n",
    "print(challenge.find('y'))\n",
    "print(challenge.find('th'))"
   ]
  },
  {
   "cell_type": "markdown",
   "metadata": {},
   "source": [
    "rfind(): Returns the index of the last occurrence of a substring, if not found returns -1\n"
   ]
  },
  {
   "cell_type": "code",
   "execution_count": 9,
   "metadata": {},
   "outputs": [
    {
     "name": "stdout",
     "output_type": "stream",
     "text": [
      "16\n",
      "17\n"
     ]
    }
   ],
   "source": [
    "challenge='thirty days of python'\n",
    "print(challenge.rfind('y'))\n",
    "print(challenge.rfind('th'))"
   ]
  },
  {
   "cell_type": "markdown",
   "metadata": {},
   "source": [
    "format(): formats string into a nicer output"
   ]
  },
  {
   "cell_type": "code",
   "execution_count": 12,
   "metadata": {},
   "outputs": [
    {
     "name": "stdout",
     "output_type": "stream",
     "text": [
      "I am Mounika Annareddy.I am 22 years old.I am working as a frelancer . I am living in india.\n"
     ]
    }
   ],
   "source": [
    "first_name='Mounika'\n",
    "last_name='Annareddy'\n",
    "age=22\n",
    "job='frelancer'\n",
    "country='india'\n",
    "sentence=('I am {} {}.I am {} years old.I am working as a {} . I am living in {}.'.format(first_name,last_name,age,job,country))\n",
    "print(sentence)"
   ]
  },
  {
   "cell_type": "code",
   "execution_count": 13,
   "metadata": {},
   "outputs": [
    {
     "name": "stdout",
     "output_type": "stream",
     "text": [
      "The area of circle with radius 10 is 314.0\n"
     ]
    }
   ],
   "source": [
    "radius=10\n",
    "pi=3.14\n",
    "area=pi*radius**2\n",
    "result=('The area of circle with radius {} is {}'.format(str(radius),str(area)))\n",
    "print(result)\n"
   ]
  },
  {
   "cell_type": "markdown",
   "metadata": {},
   "source": [
    "index(): Returns the lowest index of a substring, additional arguments indicate starting and ending index (default 0 and string length - 1). If the substring is not found it raises a valueError."
   ]
  },
  {
   "cell_type": "code",
   "execution_count": 19,
   "metadata": {},
   "outputs": [
    {
     "name": "stdout",
     "output_type": "stream",
     "text": [
      "7\n"
     ]
    }
   ],
   "source": [
    "challenge='thirty days of challenge'\n",
    "sub_string='da'\n",
    "print(challenge.index(sub_string))\n",
    "\n"
   ]
  },
  {
   "cell_type": "markdown",
   "metadata": {},
   "source": [
    "rindex(): Returns the highest index of a substring, additional arguments indicate starting and ending index (default 0 and string length - 1)"
   ]
  },
  {
   "cell_type": "code",
   "execution_count": 25,
   "metadata": {},
   "outputs": [
    {
     "name": "stdout",
     "output_type": "stream",
     "text": [
      "15\n",
      "15\n"
     ]
    }
   ],
   "source": [
    "challenge='thirty days of python'\n",
    "sub_string='p'\n",
    "print(challenge.rindex(sub_string))\n",
    "print(challenge.rindex(sub_string,9))"
   ]
  },
  {
   "cell_type": "markdown",
   "metadata": {},
   "source": [
    "isalnum(): Checks alphanumeric character"
   ]
  },
  {
   "cell_type": "code",
   "execution_count": 28,
   "metadata": {},
   "outputs": [
    {
     "name": "stdout",
     "output_type": "stream",
     "text": [
      "True\n"
     ]
    }
   ],
   "source": [
    "challenge='thirtydaysofpython'\n",
    "print(challenge.isalnum())"
   ]
  },
  {
   "cell_type": "code",
   "execution_count": 29,
   "metadata": {},
   "outputs": [
    {
     "name": "stdout",
     "output_type": "stream",
     "text": [
      "True\n"
     ]
    }
   ],
   "source": [
    "challenge='30daysofpython'\n",
    "print(challenge.isalnum())"
   ]
  },
  {
   "cell_type": "code",
   "execution_count": 30,
   "metadata": {},
   "outputs": [
    {
     "name": "stdout",
     "output_type": "stream",
     "text": [
      "False\n"
     ]
    }
   ],
   "source": [
    "challenge='thirty days of python'  #space is not an alpha numeric\n",
    "print(challenge.isalnum())"
   ]
  },
  {
   "cell_type": "code",
   "execution_count": 31,
   "metadata": {},
   "outputs": [
    {
     "name": "stdout",
     "output_type": "stream",
     "text": [
      "False\n"
     ]
    }
   ],
   "source": [
    "challenge='thirty days of python 2019'\n",
    "print(challenge.isalnum())"
   ]
  },
  {
   "cell_type": "markdown",
   "metadata": {},
   "source": [
    "isalpha(): Checks if all string elements are alphabet characters (a-z and A-Z)\n"
   ]
  },
  {
   "cell_type": "code",
   "execution_count": 2,
   "metadata": {},
   "outputs": [
    {
     "name": "stdout",
     "output_type": "stream",
     "text": [
      "False\n",
      "True\n",
      "False\n"
     ]
    }
   ],
   "source": [
    "challenge='thirty days of python'\n",
    "print(challenge.isalpha())  #space is once again excluded\n",
    "challenge='thirtydayspython'\n",
    "print(challenge.isalpha())\n",
    "challenge='123'\n",
    "print(challenge.isalpha())"
   ]
  },
  {
   "cell_type": "markdown",
   "metadata": {},
   "source": [
    "isdecimal(): Checks if all characters in a string are decimal (0-9)"
   ]
  },
  {
   "cell_type": "code",
   "execution_count": 8,
   "metadata": {},
   "outputs": [
    {
     "name": "stdout",
     "output_type": "stream",
     "text": [
      "False\n",
      "True\n",
      "False\n",
      "False\n"
     ]
    }
   ],
   "source": [
    "challenge='thirty days of python'\n",
    "print(challenge.isdecimal())\n",
    "challenge='123'\n",
    "print(challenge.isdecimal())\n",
    "challenge = '\\u00B2'\n",
    "print(challenge.isdecimal())\n",
    "challenge='12 3'\n",
    "print(challenge.isdecimal())     #space is not allowed\n"
   ]
  },
  {
   "cell_type": "markdown",
   "metadata": {},
   "source": [
    "isdigit(): Checks if all characters in a string are numbers (0-9 and some other unicode characters for numbers)"
   ]
  },
  {
   "cell_type": "code",
   "execution_count": 9,
   "metadata": {},
   "outputs": [
    {
     "name": "stdout",
     "output_type": "stream",
     "text": [
      "False\n",
      "True\n",
      "True\n"
     ]
    }
   ],
   "source": [
    "challenge='thirty'\n",
    "print(challenge.isdigit())\n",
    "challenge='30'\n",
    "print(challenge.isdigit())\n",
    "challenge='\\u00B2'\n",
    "print(challenge.isdigit())\n"
   ]
  },
  {
   "cell_type": "markdown",
   "metadata": {},
   "source": [
    "isnumeric(): Checks if all characters in a string are numbers or number related (just like isdigit(), just accepts more symbols, like ½)\n",
    "\n"
   ]
  },
  {
   "cell_type": "code",
   "execution_count": 13,
   "metadata": {},
   "outputs": [
    {
     "name": "stdout",
     "output_type": "stream",
     "text": [
      "True\n",
      "True\n",
      "False\n"
     ]
    }
   ],
   "source": [
    "num='10'\n",
    "print(num.isnumeric())\n",
    "num= '\\u00BD' # ½\n",
    "print(num.isnumeric())\n",
    "num='10.5'\n",
    "print(num.isnumeric())"
   ]
  },
  {
   "cell_type": "markdown",
   "metadata": {},
   "source": [
    "isidentifier(): Checks for a valid identifier - it checks if a string is a valid variable name\n"
   ]
  },
  {
   "cell_type": "code",
   "execution_count": 38,
   "metadata": {},
   "outputs": [
    {
     "name": "stdout",
     "output_type": "stream",
     "text": [
      "False\n",
      "True\n"
     ]
    }
   ],
   "source": [
    "challenge='30daysofpython'\n",
    "print(challenge.isidentifier())    #it starts with a number\n",
    "challenge='thirty_days_of_python'\n",
    "print(challenge.isidentifier())"
   ]
  },
  {
   "cell_type": "markdown",
   "metadata": {},
   "source": [
    "islower(): Checks if all alphabet characters in the string are lowercase"
   ]
  },
  {
   "cell_type": "code",
   "execution_count": 16,
   "metadata": {},
   "outputs": [
    {
     "name": "stdout",
     "output_type": "stream",
     "text": [
      "True\n",
      "False\n"
     ]
    }
   ],
   "source": [
    "challenge='thirty days of python'\n",
    "print(challenge.islower())\n",
    "challenge='Thirty days of python'\n",
    "print(challenge.islower())"
   ]
  },
  {
   "cell_type": "markdown",
   "metadata": {},
   "source": [
    "isupper(): Checks if all alphabet characters in the string are uppercase"
   ]
  },
  {
   "cell_type": "code",
   "execution_count": 17,
   "metadata": {},
   "outputs": [
    {
     "name": "stdout",
     "output_type": "stream",
     "text": [
      "False\n",
      "True\n"
     ]
    }
   ],
   "source": [
    "challenge='thirty days of python'\n",
    "print(challenge.isupper())\n",
    "challenge='THIRTY DAYS OF PYTHON'\n",
    "print(challenge.isupper())"
   ]
  },
  {
   "cell_type": "markdown",
   "metadata": {},
   "source": [
    "join(): Returns a concatenated string\n"
   ]
  },
  {
   "cell_type": "code",
   "execution_count": 18,
   "metadata": {},
   "outputs": [
    {
     "name": "stdout",
     "output_type": "stream",
     "text": [
      "['html', 'css', 'javascript']\n"
     ]
    }
   ],
   "source": [
    "web_tech=['html','css','javascript']\n",
    "result=' '.join(web_tech)\n",
    "print(web_tech)"
   ]
  },
  {
   "cell_type": "markdown",
   "metadata": {},
   "source": [
    "strip(): Removes all given characters starting from the beginning and end of the string"
   ]
  },
  {
   "cell_type": "code",
   "execution_count": 19,
   "metadata": {},
   "outputs": [
    {
     "name": "stdout",
     "output_type": "stream",
     "text": [
      "irty days of py\n"
     ]
    }
   ],
   "source": [
    "challenge='thirty days of python'\n",
    "print(challenge.strip('noth'))"
   ]
  },
  {
   "cell_type": "markdown",
   "metadata": {},
   "source": [
    "replace(): Replaces substring with a given string"
   ]
  },
  {
   "cell_type": "code",
   "execution_count": 20,
   "metadata": {},
   "outputs": [
    {
     "name": "stdout",
     "output_type": "stream",
     "text": [
      "thirty days of coding\n"
     ]
    }
   ],
   "source": [
    "challenge='thirty days of python'\n",
    "print(challenge.replace('python','coding'))"
   ]
  },
  {
   "cell_type": "markdown",
   "metadata": {},
   "source": [
    "split(): Splits the string, using given string or space as a separator"
   ]
  },
  {
   "cell_type": "code",
   "execution_count": 29,
   "metadata": {},
   "outputs": [
    {
     "name": "stdout",
     "output_type": "stream",
     "text": [
      "['thirty', 'days', 'of', 'python']\n",
      "['thirty,days,of,python']\n"
     ]
    }
   ],
   "source": [
    "challenge='thirty days of python'\n",
    "print(challenge.split( ' '))\n",
    "\n",
    "\n",
    "challenge='thirty,days,of,python'\n",
    "print(challenge.split(' '))"
   ]
  },
  {
   "cell_type": "markdown",
   "metadata": {},
   "source": [
    "title(): Returns a title cased string"
   ]
  },
  {
   "cell_type": "code",
   "execution_count": 30,
   "metadata": {},
   "outputs": [
    {
     "name": "stdout",
     "output_type": "stream",
     "text": [
      "Thirty Days Of Python\n"
     ]
    }
   ],
   "source": [
    "challenge='thirty days of python'\n",
    "print(challenge.title())"
   ]
  },
  {
   "cell_type": "markdown",
   "metadata": {},
   "source": [
    "swapcase(): Converts all uppercase characters to lowercase and all lowercase characters to uppercase characters\n"
   ]
  },
  {
   "cell_type": "code",
   "execution_count": 31,
   "metadata": {},
   "outputs": [
    {
     "name": "stdout",
     "output_type": "stream",
     "text": [
      "THIRTY DAYS OF PYTHON\n"
     ]
    }
   ],
   "source": [
    "challenge='thirty days of python'\n",
    "print(challenge.swapcase())"
   ]
  },
  {
   "cell_type": "markdown",
   "metadata": {},
   "source": [
    "startswith(): Checks if String Starts with the Specified String"
   ]
  },
  {
   "cell_type": "code",
   "execution_count": 32,
   "metadata": {},
   "outputs": [
    {
     "name": "stdout",
     "output_type": "stream",
     "text": [
      "False\n",
      "True\n"
     ]
    }
   ],
   "source": [
    "challenge='thirty days of python'\n",
    "print(challenge.startswith('who'))\n",
    "print(challenge.startswith('thirty'))"
   ]
  },
  {
   "cell_type": "markdown",
   "metadata": {},
   "source": [
    "Concatenate the string 'Thirty', 'Days', 'Of', 'Python' to a single string, 'Thirty Days Of Python'.\n",
    "Concatenate the string 'Coding', 'For' , 'All' to a single string, 'Coding For All'."
   ]
  },
  {
   "cell_type": "code",
   "execution_count": 38,
   "metadata": {},
   "outputs": [
    {
     "name": "stdout",
     "output_type": "stream",
     "text": [
      "Thirty Days Of Python\n"
     ]
    }
   ],
   "source": [
    "a='Thirty'\n",
    "b='Days'\n",
    "c='Of'\n",
    "d='Python'\n",
    "space=' '\n",
    "f=a + space+ b + space+ c + space+ d\n",
    "print(f)"
   ]
  },
  {
   "cell_type": "code",
   "execution_count": 46,
   "metadata": {},
   "outputs": [
    {
     "name": "stdout",
     "output_type": "stream",
     "text": [
      "Thirty Days Of Python\n"
     ]
    }
   ],
   "source": [
    "res='Thirty' + \" \" + 'Days' + \" \" + 'Of' + \" \" + 'Python'\n",
    "print(res)"
   ]
  },
  {
   "cell_type": "code",
   "execution_count": 42,
   "metadata": {},
   "outputs": [
    {
     "name": "stdout",
     "output_type": "stream",
     "text": [
      "Coding For All\n"
     ]
    }
   ],
   "source": [
    "a=\"Coding\"\n",
    "b=\"For\"\n",
    "c=\"All\"\n",
    "space=\" \"\n",
    "print(f\"{a}{space}{b}{space}{c}\")"
   ]
  },
  {
   "cell_type": "code",
   "execution_count": 44,
   "metadata": {},
   "outputs": [
    {
     "name": "stdout",
     "output_type": "stream",
     "text": [
      "Coding For All\n"
     ]
    }
   ],
   "source": [
    "result='Coding' + \" \" + 'For' + \" \" + 'All'\n",
    "print(result)"
   ]
  },
  {
   "cell_type": "markdown",
   "metadata": {},
   "source": [
    "Declare a variable named company and assign it to an initial value \"Coding For All\".\n",
    "Print the variable company using print().\n",
    "Print the length of the company string using len() method and print().\n",
    "Change all the characters to uppercase letters using upper() method.\n",
    "Change all the characters to lowercase letters using lower() method."
   ]
  },
  {
   "cell_type": "code",
   "execution_count": 48,
   "metadata": {},
   "outputs": [
    {
     "name": "stdout",
     "output_type": "stream",
     "text": [
      "Coding For All\n",
      "14\n",
      "CODING FOR ALL\n",
      "coding for all\n"
     ]
    }
   ],
   "source": [
    "company=\"Coding For All\"\n",
    "print(company)\n",
    "print(len(company))\n",
    "print(company.upper())\n",
    "print(company.lower())"
   ]
  },
  {
   "cell_type": "markdown",
   "metadata": {},
   "source": [
    "Use capitalize(), title(), swapcase() methods to format the value of the string Coding For All."
   ]
  },
  {
   "cell_type": "code",
   "execution_count": 49,
   "metadata": {},
   "outputs": [
    {
     "name": "stdout",
     "output_type": "stream",
     "text": [
      "Coding for all\n",
      "Coding For All\n",
      "cODING fOR aLL\n"
     ]
    }
   ],
   "source": [
    "value='Coding For All'\n",
    "print(value.capitalize())\n",
    "print(value.title())\n",
    "print(value.swapcase())"
   ]
  },
  {
   "cell_type": "markdown",
   "metadata": {},
   "source": [
    "Cut(slice) out the first word of Coding For All string."
   ]
  },
  {
   "cell_type": "code",
   "execution_count": 52,
   "metadata": {},
   "outputs": [
    {
     "name": "stdout",
     "output_type": "stream",
     "text": [
      "C\n",
      "Coding\n"
     ]
    }
   ],
   "source": [
    "a='Coding For All'\n",
    "print(a[0:1])\n",
    "print(a[0:6])"
   ]
  },
  {
   "cell_type": "markdown",
   "metadata": {},
   "source": [
    "Check if Coding For All string contains a word Coding using the method index, find or other methods."
   ]
  },
  {
   "cell_type": "code",
   "execution_count": 55,
   "metadata": {},
   "outputs": [
    {
     "name": "stdout",
     "output_type": "stream",
     "text": [
      "-1\n"
     ]
    }
   ],
   "source": [
    "a='Coding For All'\n",
    "print(a.find(''))"
   ]
  },
  {
   "cell_type": "code",
   "execution_count": 57,
   "metadata": {},
   "outputs": [
    {
     "name": "stdout",
     "output_type": "stream",
     "text": [
      "0\n",
      "True\n"
     ]
    }
   ],
   "source": [
    "sentence='Coding For All'\n",
    "sub_string='Coding'\n",
    "index=sentence.find(sub_string)\n",
    "print(index)\n",
    "\n",
    "print('Coding' in 'Coding For All')"
   ]
  },
  {
   "cell_type": "markdown",
   "metadata": {},
   "source": [
    "Replace the word coding in the string 'Coding For All' to Python.\n",
    "Change Python for Everyone to Python for All using the replace method or other methods."
   ]
  },
  {
   "cell_type": "code",
   "execution_count": 58,
   "metadata": {},
   "outputs": [
    {
     "name": "stdout",
     "output_type": "stream",
     "text": [
      "Python For All\n"
     ]
    }
   ],
   "source": [
    "sentence='Coding For All'\n",
    "print(sentence.replace('Coding','Python'))"
   ]
  },
  {
   "cell_type": "code",
   "execution_count": 59,
   "metadata": {},
   "outputs": [
    {
     "name": "stdout",
     "output_type": "stream",
     "text": [
      "Python For All\n"
     ]
    }
   ],
   "source": [
    "sentence='Python For Everyone'\n",
    "print(sentence.replace('Everyone','All'))"
   ]
  },
  {
   "cell_type": "markdown",
   "metadata": {},
   "source": [
    "Split the string 'Coding For All' using space as the separator (split()) .\n",
    "\"Facebook, Google, Microsoft, Apple, IBM, Oracle, Amazon\" split the string at the comma."
   ]
  },
  {
   "cell_type": "code",
   "execution_count": 3,
   "metadata": {},
   "outputs": [
    {
     "name": "stdout",
     "output_type": "stream",
     "text": [
      "14\n",
      "['Coding For All']\n",
      "1\n"
     ]
    }
   ],
   "source": [
    "a='Coding For All'\n",
    "print(len(a))\n",
    "c=a.split(' , ')\n",
    "print(c)\n",
    "print(len(c))"
   ]
  },
  {
   "cell_type": "code",
   "execution_count": 9,
   "metadata": {},
   "outputs": [
    {
     "name": "stdout",
     "output_type": "stream",
     "text": [
      "['Coding', 'For', 'All']\n"
     ]
    }
   ],
   "source": [
    "string1 = 'Coding For All'\n",
    "result1 = string1.split()\n",
    "print(result1)\n"
   ]
  },
  {
   "cell_type": "code",
   "execution_count": 10,
   "metadata": {},
   "outputs": [
    {
     "name": "stdout",
     "output_type": "stream",
     "text": [
      "['Facebook,Google,Microsoft,Apple,IBM,Oracle,Amazon']\n"
     ]
    }
   ],
   "source": [
    "b=\"Facebook,Google,Microsoft,Apple,IBM,Oracle,Amazon\"\n",
    "c=b.split()\n",
    "print(c)"
   ]
  },
  {
   "cell_type": "code",
   "execution_count": 7,
   "metadata": {},
   "outputs": [
    {
     "name": "stdout",
     "output_type": "stream",
     "text": [
      "['Facebook', 'Google', 'Microsoft', 'Apple', 'IBM', 'Oracle', 'Amazon']\n"
     ]
    }
   ],
   "source": [
    "string2 = \"Facebook, Google, Microsoft, Apple, IBM, Oracle, Amazon\"\n",
    "result2 = string2.split(', ')\n",
    "print(result2)\n"
   ]
  },
  {
   "cell_type": "markdown",
   "metadata": {},
   "source": [
    "What is the character at index 0 in the string Coding For All.\n",
    "What is the last index of the string Coding For All.\n",
    "What character is at index 10 in \"Coding For All\" string.\n"
   ]
  },
  {
   "cell_type": "code",
   "execution_count": 11,
   "metadata": {},
   "outputs": [
    {
     "name": "stdout",
     "output_type": "stream",
     "text": [
      "c\n"
     ]
    }
   ],
   "source": [
    "string=\"coding for all\"\n",
    "c=string[0]\n",
    "print(c)"
   ]
  },
  {
   "cell_type": "code",
   "execution_count": 14,
   "metadata": {},
   "outputs": [
    {
     "name": "stdout",
     "output_type": "stream",
     "text": [
      "l\n"
     ]
    }
   ],
   "source": [
    "string='Coding For All'\n",
    "last_index=len(string)-1\n",
    "last_letter=string[last_index]\n",
    "print(last_letter)"
   ]
  },
  {
   "cell_type": "code",
   "execution_count": 15,
   "metadata": {},
   "outputs": [
    {
     "name": "stdout",
     "output_type": "stream",
     "text": [
      " \n"
     ]
    }
   ],
   "source": [
    "string=\"coding For All\"\n",
    "c=string[10]\n",
    "print(c)"
   ]
  },
  {
   "cell_type": "markdown",
   "metadata": {},
   "source": [
    "Create an acronym or an abbreviation for the name 'Python For Everyone'.\n",
    "Create an acronym or an abbreviation for the name 'Coding For All'.\n",
    "\n",
    "\n",
    "Python For Everyone:\n",
    "\n",
    "Acronym: PFE\n",
    "Abbreviation: PyFE\n",
    "Coding For All:\n",
    "\n",
    "Acronym: CFA\n",
    "Abbreviation: C4A"
   ]
  },
  {
   "cell_type": "markdown",
   "metadata": {},
   "source": [
    "Use index to determine the position of the first occurrence of C in Coding For All.\n",
    "Use index to determine the position of the first occurrence of F in Coding For All.\n",
    "Use rfind to determine the position of the last occurrence of l in Coding For All People."
   ]
  },
  {
   "cell_type": "code",
   "execution_count": 16,
   "metadata": {},
   "outputs": [
    {
     "name": "stdout",
     "output_type": "stream",
     "text": [
      "0\n"
     ]
    }
   ],
   "source": [
    "string='Coding For All'\n",
    "sub_string='C'\n",
    "print(string.index(sub_string))"
   ]
  },
  {
   "cell_type": "code",
   "execution_count": 17,
   "metadata": {},
   "outputs": [
    {
     "name": "stdout",
     "output_type": "stream",
     "text": [
      "7\n"
     ]
    }
   ],
   "source": [
    "string='Coding For All'\n",
    "sub_string=\"F\"\n",
    "print(string.index(sub_string))"
   ]
  },
  {
   "cell_type": "code",
   "execution_count": 18,
   "metadata": {},
   "outputs": [
    {
     "name": "stdout",
     "output_type": "stream",
     "text": [
      "19\n"
     ]
    }
   ],
   "source": [
    "string=\"Coding For All People\"\n",
    "sub_string='l'\n",
    "print(string.rfind(sub_string))"
   ]
  },
  {
   "cell_type": "markdown",
   "metadata": {},
   "source": [
    "Use index or find to find the position of the first occurrence of the word 'because' in the following sentence: 'You cannot end a sentence with because because because is a conjunction'\n",
    "\n",
    "Use rindex to find the position of the last occurrence of the word because in the following sentence: 'You cannot end a sentence with because because because is a conjunction'\n",
    "\n",
    "Slice out the phrase 'because because because' in the following sentence: 'You cannot end a sentence with because because because is a conjunction'\n",
    "\n",
    "Find the position of the first occurrence of the word 'because' in the following sentence: 'You cannot end a sentence with because because because is a conjunction'"
   ]
  },
  {
   "cell_type": "code",
   "execution_count": 25,
   "metadata": {},
   "outputs": [
    {
     "name": "stdout",
     "output_type": "stream",
     "text": [
      "31\n",
      "31\n",
      "47\n",
      "47\n",
      "because because because\n"
     ]
    }
   ],
   "source": [
    "string='You cannot end a sentence with because because because is a conjunction'\n",
    "sub_string='because'\n",
    "print(string.find(sub_string))\n",
    "print(string.index(sub_string))\n",
    "print(string.rindex(sub_string))\n",
    "print(string.rfind(sub_string))\n",
    "print(string[31:54])\n"
   ]
  },
  {
   "cell_type": "markdown",
   "metadata": {},
   "source": [
    "Does ''Coding For All' start with a substring Coding?\n",
    "\n",
    "Does 'Coding For All' end with a substring coding?\n",
    "\n",
    "'   Coding For All      '  , remove the left and right trailing spaces in the given string.\n",
    "\n",
    "Which one of the following variables return True when we use the method isidentifier():\n",
    "\n",
    "30DaysOfPython\n",
    "thirty_days_of_python"
   ]
  },
  {
   "cell_type": "code",
   "execution_count": 27,
   "metadata": {},
   "outputs": [
    {
     "name": "stdout",
     "output_type": "stream",
     "text": [
      "True\n",
      "False\n"
     ]
    }
   ],
   "source": [
    "string=\"Coding For All\"\n",
    "print(string.startswith('Coding'))\n",
    "print(string.endswith('coding'))"
   ]
  },
  {
   "cell_type": "code",
   "execution_count": 33,
   "metadata": {},
   "outputs": [
    {
     "name": "stdout",
     "output_type": "stream",
     "text": [
      "   Coding For All      \n"
     ]
    }
   ],
   "source": [
    "original_string='   Coding For All      '\n",
    "trimmed_string=original_string.strip()\n",
    "print(trimmed_string)\n",
    "\n"
   ]
  },
  {
   "cell_type": "code",
   "execution_count": 35,
   "metadata": {},
   "outputs": [
    {
     "name": "stdout",
     "output_type": "stream",
     "text": [
      "False\n"
     ]
    }
   ],
   "source": [
    "string='30daysofpython'\n",
    "print(string.isidentifier())"
   ]
  },
  {
   "cell_type": "code",
   "execution_count": 39,
   "metadata": {},
   "outputs": [
    {
     "name": "stdout",
     "output_type": "stream",
     "text": [
      "True\n"
     ]
    }
   ],
   "source": [
    "a='thirty_days_of_python'\n",
    "print(a.isidentifier())"
   ]
  },
  {
   "cell_type": "markdown",
   "metadata": {},
   "source": [
    "The following list contains the names of some of python libraries: ['Django', 'Flask', 'Bottle', 'Pyramid', 'Falcon']. Join the list with a hash with space string.\n"
   ]
  },
  {
   "cell_type": "code",
   "execution_count": 43,
   "metadata": {},
   "outputs": [
    {
     "name": "stdout",
     "output_type": "stream",
     "text": [
      "Django # Flask # bottle # Pyramid # Falcon\n"
     ]
    }
   ],
   "source": [
    "python_libraries=['Django','Flask',\"bottle\",'Pyramid','Falcon']\n",
    "c=' # '.join(python_libraries)\n",
    "print(c)"
   ]
  },
  {
   "cell_type": "markdown",
   "metadata": {},
   "source": [
    "Use the new line escape sequence to separate the following sentences.\n",
    "I am enjoying this challenge.\n",
    "I just wonder what is next.\n",
    "\n",
    "\n",
    "Use a tab escape sequence to write the following lines.\n",
    "Name      Age     Country   City\n",
    "Asabeneh  250     Finland   Helsinki"
   ]
  },
  {
   "cell_type": "code",
   "execution_count": 45,
   "metadata": {},
   "outputs": [
    {
     "name": "stdout",
     "output_type": "stream",
     "text": [
      "I am enjoying this challenge.\n",
      " I just wonder what is next.\n"
     ]
    }
   ],
   "source": [
    "print('I am enjoying this challenge.\\n I just wonder what is next.')"
   ]
  },
  {
   "cell_type": "code",
   "execution_count": 46,
   "metadata": {},
   "outputs": [
    {
     "name": "stdout",
     "output_type": "stream",
     "text": [
      "Name\tAge\tCounty\tCity\n",
      "Mouniks\t22\tIndia\tHyderabad\n"
     ]
    }
   ],
   "source": [
    "print('Name\\tAge\\tCounty\\tCity')\n",
    "print('Mouniks\\t22\\tIndia\\tHyderabad')"
   ]
  },
  {
   "cell_type": "markdown",
   "metadata": {},
   "source": [
    "Make the following using string formatting methods:\n",
    "8 + 6 = 14\n",
    "8 - 6 = 2\n",
    "8 * 6 = 48\n",
    "8 / 6 = 1.33\n",
    "8 % 6 = 2\n",
    "8 // 6 = 1\n",
    "8 ** 6 = 262144"
   ]
  },
  {
   "cell_type": "code",
   "execution_count": 57,
   "metadata": {},
   "outputs": [
    {
     "name": "stdout",
     "output_type": "stream",
     "text": [
      "8 + 6 = 14\n",
      "8 - 6 = 2\n",
      "8 * 6 = 48\n",
      "8 / 6 = 1.33\n",
      "8 % 6 =2\n",
      "8 // 6=1\n",
      "8**6=262144\n"
     ]
    }
   ],
   "source": [
    "a=8\n",
    "b=6\n",
    "print('{} + {} = {}'.format(a,b,a+b))\n",
    "print('{} - {} = {}'.format(a,b,a-b))\n",
    "print('{} * {} = {}'.format(a,b,a*b))\n",
    "print('{} / {} = {:.2f}'.format(a,b,a/b))\n",
    "print('{} % {} ={}'.format(a,b,a%b))\n",
    "print('{} // {}={}'.format(a,b,a//b))\n",
    "print('{}**{}={}'.format(a,b,a**b))"
   ]
  },
  {
   "cell_type": "markdown",
   "metadata": {},
   "source": [
    "\n",
    "Use the string formatting method to display the following:\n",
    "radius = 10\n",
    "area = 3.14 * radius ** 2\n",
    "The area of a circle with radius 10 is 314 meters squ"
   ]
  },
  {
   "cell_type": "code",
   "execution_count": 61,
   "metadata": {},
   "outputs": [
    {
     "name": "stdout",
     "output_type": "stream",
     "text": [
      "The area of a circle with radius 10 is 314.0 meters square\n"
     ]
    }
   ],
   "source": [
    "radius=10\n",
    "area=3.14*radius**2\n",
    "print('The area of a circle with radius {} is {} meters square'.format(str(radius),str(area)))"
   ]
  },
  {
   "cell_type": "code",
   "execution_count": 63,
   "metadata": {},
   "outputs": [
    {
     "name": "stdout",
     "output_type": "stream",
     "text": [
      "P\n",
      "1\n",
      "Hello, World!\n",
      "13\n",
      "I hope you are enjoying 30 days of python challenge\n",
      "I am a teacher and enjoy teaching.\n",
      "I didn't find anything as rewarding as empowering people.\n",
      "That is why I created 30 days of python.\n",
      "I am a teacher and enjoy teaching.\n",
      "I didn't find anything as rewarding as empowering people.\n",
      "That is why I created 30 days of python.\n",
      "Asabeneh Yetayeh\n",
      "8\n",
      "7\n",
      "True\n",
      "16\n",
      "P\n",
      "y\n",
      "t\n",
      "h\n",
      "o\n",
      "n\n",
      "P\n",
      "y\n",
      "n\n",
      "n\n",
      "o\n",
      "hon\n",
      "hon\n",
      "hon\n",
      "Pto\n",
      "I hope every one enjoying the python challenge.\n",
      "Do you ?\n",
      "Days\tTopics\tExercises\n",
      "Day 1\t3\t5\n",
      "Day 2\t3\t5\n",
      "Day 3\t3\t5\n",
      "Day 4\t3\t5\n",
      "This is a back slash  symbol (\\)\n",
      "In every programming language it starts with \"Hello, World!\"\n",
      "Thirty days of python\n",
      "3\n",
      "1\n",
      "2\n",
      "True\n",
      "False\n",
      "thirty  days    of      python\n",
      "thirty    days      of        python\n",
      "5\n",
      "0\n",
      "I am Asabeneh Yetayeh. I am a teacher. I live in Finland.\n",
      "The area of circle with 10 is 3.14\n",
      "5\n",
      "0\n",
      "True\n",
      "True\n",
      "False\n",
      "False\n",
      "False\n",
      "False\n",
      "5\n",
      "0\n",
      "False\n",
      "True\n",
      "True\n",
      "False\n",
      "False\n",
      "True\n",
      "True\n",
      "False\n",
      "False\n",
      "True\n",
      "True\n",
      "False\n",
      "HTML#, CSS#, JavaScript#, React\n",
      " thirty days of python \n",
      "thirty days of coding\n",
      "['thirty', 'days', 'of', 'python']\n",
      "Thirty Days Of Python\n",
      "THIRTY DAYS OF PYTHON\n",
      "tHIRTY dAYS oF pYTHON\n",
      "True\n",
      "False\n"
     ]
    }
   ],
   "source": [
    "\n",
    "# Single line comment\n",
    "letter = 'P'                # A string could be a single character or a bunch of texts\n",
    "print(letter)               # P\n",
    "print(len(letter))          # 1\n",
    "greeting = 'Hello, World!'  # String could be  a single or double quote,\"Hello, World!\"\n",
    "print(greeting)             # Hello, World!\n",
    "print(len(greeting))        # 13\n",
    "sentence = \"I hope you are enjoying 30 days of python challenge\"\n",
    "print(sentence)\n",
    "\n",
    "# Multiline String\n",
    "multiline_string = '''I am a teacher and enjoy teaching.\n",
    "I didn't find anything as rewarding as empowering people.\n",
    "That is why I created 30 days of python.'''\n",
    "print(multiline_string)\n",
    "# Another way of doing the same thing\n",
    "multiline_string = \"\"\"I am a teacher and enjoy teaching.\n",
    "I didn't find anything as rewarding as empowering people.\n",
    "That is why I created 30 days of python.\"\"\"\n",
    "print(multiline_string)\n",
    "\n",
    "# String Concatenation\n",
    "first_name = 'Asabeneh'\n",
    "last_name = 'Yetayeh'\n",
    "space = ' '\n",
    "full_name = first_name  +  space + last_name\n",
    "print(full_name) # Asabeneh Yetayeh\n",
    "# Checking length of a string using len() builtin function\n",
    "print(len(first_name))  # 8\n",
    "print(len(last_name))   # 7\n",
    "print(len(first_name) > len(last_name)) # True\n",
    "print(len(full_name)) # 15\n",
    "\n",
    "#### Unpacking characters \n",
    "language = 'Python'\n",
    "a,b,c,d,e,f = language # unpacking sequence characters into variables\n",
    "print(a) # P\n",
    "print(b) # y\n",
    "print(c) # t \n",
    "print(d) # h\n",
    "print(e) # o\n",
    "print(f) # n\n",
    "\n",
    "# Accessing characters in strings by index\n",
    "language = 'Python'\n",
    "first_letter = language[0]\n",
    "print(first_letter) # P\n",
    "second_letter = language[1]\n",
    "print(second_letter) # y\n",
    "last_index = len(language) - 1\n",
    "last_letter = language[last_index]\n",
    "print(last_letter) # n\n",
    "\n",
    "# If we want to start from right end we can use negative indexing. -1 is the last index\n",
    "language = 'Python'\n",
    "last_letter = language[-1]\n",
    "print(last_letter) # n\n",
    "second_last = language[-2]\n",
    "print(second_last) # o\n",
    "\n",
    "# Slicing\n",
    "\n",
    "language = 'Python'\n",
    "first_three = language[0:3] # starts at zero index and up to 3 but not include 3\n",
    "last_three = language[3:6]\n",
    "print(last_three) # hon\n",
    "# Another way\n",
    "last_three = language[-3:]\n",
    "print(last_three)   # hon\n",
    "last_three = language[3:]\n",
    "print(last_three)   # hon\n",
    "\n",
    "# Skipping character while splitting Python strings\n",
    "language = 'Python'\n",
    "pto = language[0:6:2] # \n",
    "print(pto) # pto\n",
    "\n",
    "# Escape sequence\n",
    "print('I hope every one enjoying the python challenge.\\nDo you ?') # line break\n",
    "print('Days\\tTopics\\tExercises')\n",
    "print('Day 1\\t3\\t5')\n",
    "print('Day 2\\t3\\t5')\n",
    "print('Day 3\\t3\\t5')\n",
    "print('Day 4\\t3\\t5')\n",
    "print('This is a back slash  symbol (\\\\)') # To write a back slash\n",
    "print('In every programming language it starts with \\\"Hello, World!\\\"')\n",
    "\n",
    "## String Methods\n",
    "# capitalize(): Converts the first character the string to Capital Letter\n",
    "\n",
    "challenge = 'thirty days of python'\n",
    "print(challenge.capitalize()) # 'Thirty days of python'\n",
    "\n",
    "# count(): returns occurrences of substring in string, count(substring, start=.., end=..)\n",
    "\n",
    "challenge = 'thirty days of python'\n",
    "print(challenge.count('y')) # 3\n",
    "print(challenge.count('y', 7, 14)) # 1\n",
    "print(challenge.count('th')) # 2`\n",
    "\n",
    "# endswith(): Checks if a string ends with a specified ending\n",
    "\n",
    "challenge = 'thirty days of python'\n",
    "print(challenge.endswith('on'))   # True\n",
    "print(challenge.endswith('tion')) # False\n",
    "\n",
    "# expandtabs(): Replaces tab character with spaces, default tab size is 8. It takes tab size argument\n",
    "\n",
    "challenge = 'thirty\\tdays\\tof\\tpython'\n",
    "print(challenge.expandtabs())   # 'thirty  days    of      python'\n",
    "print(challenge.expandtabs(10)) # 'thirty    days      of        python'\n",
    "\n",
    "# find(): Returns the index of first occurrence of substring\n",
    "\n",
    "challenge = 'thirty days of python'\n",
    "print(challenge.find('y'))  # 5\n",
    "print(challenge.find('th')) # 0\n",
    "\n",
    "# format()\tformats string into nicer output    \n",
    "first_name = 'Asabeneh'\n",
    "last_name = 'Yetayeh'\n",
    "job = 'teacher'\n",
    "country = 'Finland'\n",
    "sentence = 'I am {} {}. I am a {}. I live in {}.'.format(first_name, last_name, job, country)\n",
    "print(sentence) # I am Asabeneh Yetayeh. I am a teacher. I live in Finland.\n",
    "\n",
    "radius = 10\n",
    "pi = 3.14\n",
    "area = pi # radius ## 2\n",
    "result = 'The area of circle with {} is {}'.format(str(radius), str(area))\n",
    "print(result) # The area of circle with 10 is 314.0\n",
    "\n",
    "# index(): Returns the index of substring\n",
    "challenge = 'thirty days of python'\n",
    "print(challenge.find('y'))  # 5\n",
    "print(challenge.find('th')) # 0\n",
    "\n",
    "# isalnum(): Checks alphanumeric character\n",
    "\n",
    "challenge = 'ThirtyDaysPython'\n",
    "print(challenge.isalnum()) # True\n",
    "\n",
    "challenge = '30DaysPython'\n",
    "print(challenge.isalnum()) # True\n",
    "\n",
    "challenge = 'thirty days of python'\n",
    "print(challenge.isalnum()) # False\n",
    "\n",
    "challenge = 'thirty days of python 2019'\n",
    "print(challenge.isalnum()) # False\n",
    "\n",
    "# isalpha(): Checks if all characters are alphabets\n",
    "\n",
    "challenge = 'thirty days of python'\n",
    "print(challenge.isalpha()) # True\n",
    "num = '123'\n",
    "print(num.isalpha())      # False\n",
    "\n",
    "# isdecimal(): Checks Decimal Characters\n",
    "\n",
    "challenge = 'thirty days of python'\n",
    "print(challenge.find('y'))  # 5\n",
    "print(challenge.find('th')) # 0\n",
    "\n",
    "# isdigit(): Checks Digit Characters\n",
    "\n",
    "challenge = 'Thirty'\n",
    "print(challenge.isdigit()) # False\n",
    "challenge = '30'\n",
    "print(challenge.isdigit())   # True\n",
    "\n",
    "# isdecimal():Checks decimal characters\n",
    "\n",
    "num = '10'\n",
    "print(num.isdecimal()) # True\n",
    "num = '10.5'\n",
    "print(num.isdecimal()) # False\n",
    "\n",
    "\n",
    "# isidentifier():Checks for valid identifier means it check if a string is a valid variable name\n",
    "\n",
    "challenge = '30DaysOfPython'\n",
    "print(challenge.isidentifier()) # False, because it starts with a number\n",
    "challenge = 'thirty_days_of_python'\n",
    "print(challenge.isidentifier()) # True\n",
    "\n",
    "\n",
    "# islower():Checks if all alphabets in a string are lowercase\n",
    "\n",
    "challenge = 'thirty days of python'\n",
    "print(challenge.islower()) # True\n",
    "challenge = 'Thirty days of python'\n",
    "print(challenge.islower()) # False\n",
    "\n",
    "# isupper(): returns if all characters are uppercase characters\n",
    "\n",
    "challenge = 'thirty days of python'\n",
    "print(challenge.isupper()) #  False\n",
    "challenge = 'THIRTY DAYS OF PYTHON'\n",
    "print(challenge.isupper()) # True\n",
    "\n",
    "\n",
    "# isnumeric():Checks numeric characters\n",
    "\n",
    "num = '10'\n",
    "print(num.isnumeric())      # True\n",
    "print('ten'.isnumeric())    # False\n",
    "\n",
    "# join(): Returns a concatenated string\n",
    "\n",
    "web_tech = ['HTML', 'CSS', 'JavaScript', 'React']\n",
    "result = '#, '.join(web_tech)\n",
    "print(result) # 'HTML# CSS# JavaScript# React'\n",
    "\n",
    "# strip(): Removes both leading and trailing characters\n",
    "\n",
    "challenge = ' thirty days of python '\n",
    "print(challenge.strip('y')) # 5\n",
    "\n",
    "# replace(): Replaces substring inside\n",
    "\n",
    "challenge = 'thirty days of python'\n",
    "print(challenge.replace('python', 'coding')) # 'thirty days of coding'\n",
    "\n",
    "# split():Splits String from Left\n",
    "\n",
    "challenge = 'thirty days of python'\n",
    "print(challenge.split()) # ['thirty', 'days', 'of', 'python']\n",
    "\n",
    "# title(): Returns a Title Cased String\n",
    "\n",
    "challenge = 'thirty days of python'\n",
    "print(challenge.title()) # Thirty Days Of Python\n",
    "\n",
    "# swapcase(): Checks if String Starts with the Specified String\n",
    "  \n",
    "challenge = 'thirty days of python'\n",
    "print(challenge.swapcase())   # THIRTY DAYS OF PYTHON\n",
    "challenge = 'Thirty Days Of Python'\n",
    "print(challenge.swapcase())  # tHIRTY dAYS oF pYTHON\n",
    "\n",
    "# startswith(): Checks if String Starts with the Specified String\n",
    "\n",
    "challenge = 'thirty days of python'\n",
    "print(challenge.startswith('thirty')) # True\n",
    "challenge = '30 days of python'\n",
    "print(challenge.startswith('thirty')) # False"
   ]
  },
  {
   "cell_type": "code",
   "execution_count": null,
   "metadata": {},
   "outputs": [],
   "source": []
  }
 ],
 "metadata": {
  "kernelspec": {
   "display_name": "Python 3",
   "language": "python",
   "name": "python3"
  },
  "language_info": {
   "codemirror_mode": {
    "name": "ipython",
    "version": 3
   },
   "file_extension": ".py",
   "mimetype": "text/x-python",
   "name": "python",
   "nbconvert_exporter": "python",
   "pygments_lexer": "ipython3",
   "version": "3.12.4"
  }
 },
 "nbformat": 4,
 "nbformat_minor": 2
}
